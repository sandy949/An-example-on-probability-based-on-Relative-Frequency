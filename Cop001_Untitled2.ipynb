{
  "cells": [
    {
      "cell_type": "code",
      "execution_count": 1,
      "metadata": {
        "id": "HXyQVjn5VCFT"
      },
      "outputs": [],
      "source": [
        "import random\n",
        "import matplotlib.pyplot as plt"
      ]
    },
    {
      "cell_type": "code",
      "execution_count": 2,
      "metadata": {
        "id": "3vAeQvqxYQQc"
      },
      "outputs": [],
      "source": [
        "mapping_dict = dict(zip(range(0,10),range(0,10)))"
      ]
    },
    {
      "cell_type": "markdown",
      "source": [
        "#The code written here creates a Dictionary named mapping_dict using a zip function which pairs two corresponding elements of the given ranges. In this case, both the keys and elements are the same i.e 0 to 9 mapping each number to itself.\n",
        "\n",
        "\n"
      ],
      "metadata": {
        "id": "EUB2hJWr1EE6"
      }
    },
    {
      "cell_type": "code",
      "execution_count": 3,
      "metadata": {
        "colab": {
          "base_uri": "https://localhost:8080/"
        },
        "id": "oBzWrsy2nsoC",
        "outputId": "9be4288c-ffe5-45a0-b121-278925f553d6"
      },
      "outputs": [
        {
          "output_type": "execute_result",
          "data": {
            "text/plain": [
              "{0: 0, 1: 1, 2: 2, 3: 3, 4: 4, 5: 5, 6: 6, 7: 7, 8: 8, 9: 9}"
            ]
          },
          "metadata": {},
          "execution_count": 3
        }
      ],
      "source": [
        "mapping_dict"
      ]
    },
    {
      "cell_type": "code",
      "execution_count": 4,
      "metadata": {
        "id": "ghEVfaoApjSN"
      },
      "outputs": [],
      "source": [
        "for k in mapping_dict.keys():\n",
        "\n",
        "  mapping_dict[k] = str(mapping_dict[k])"
      ]
    },
    {
      "cell_type": "markdown",
      "source": [
        "#The code here is iterating through the keys of the dictionary mapping_dict using a loop. This loop converts all the values corresponding to the keys to strings.\n",
        "\n",
        "#{0: 0, 1: 1, 2: 2, 3: 3, 4: 4, 5: 5, 6: 6, 7: 7, 8: 8, 9: 9}\n",
        "\n",
        "##**Would become**\n",
        "\n",
        "#{0: '0',1: '1',2: '2',3: '3',4: '4',5: '5','6: '6', 7: '7', 8: '8', 9: '9'}.\n"
      ],
      "metadata": {
        "id": "5dVlyBQw33Lc"
      }
    },
    {
      "cell_type": "code",
      "execution_count": 5,
      "metadata": {
        "colab": {
          "base_uri": "https://localhost:8080/"
        },
        "id": "VKAyIsW6q_qS",
        "outputId": "9c9451eb-fda4-4a71-b741-a9a1023d0df8"
      },
      "outputs": [
        {
          "output_type": "execute_result",
          "data": {
            "text/plain": [
              "{0: '0',\n",
              " 1: '1',\n",
              " 2: '2',\n",
              " 3: '3',\n",
              " 4: '4',\n",
              " 5: '5',\n",
              " 6: '6',\n",
              " 7: '7',\n",
              " 8: '8',\n",
              " 9: '9'}"
            ]
          },
          "metadata": {},
          "execution_count": 5
        }
      ],
      "source": [
        "mapping_dict"
      ]
    },
    {
      "cell_type": "code",
      "execution_count": 6,
      "metadata": {
        "id": "GowosEpVrXfK"
      },
      "outputs": [],
      "source": [
        "for i in range(0,26):\n",
        "  mapping_dict[10+i] = chr(65+i)"
      ]
    },
    {
      "cell_type": "markdown",
      "source": [
        "#->Code is iterating through i on a range 0 to 25.\n",
        "#->This adds 25 new key-values pairs to the dictionary.\n",
        "#->Keys are intezers after 10 and elements are ASCII characters starting from 65 i.e A,B,C...,Z.\n",
        "\n",
        "\n",
        "\n",
        "\n",
        "\n",
        "\n",
        "\n",
        "\n"
      ],
      "metadata": {
        "id": "JzCiH6kRMMTC"
      }
    },
    {
      "cell_type": "code",
      "execution_count": 7,
      "metadata": {
        "colab": {
          "base_uri": "https://localhost:8080/"
        },
        "id": "beprdUCauVOp",
        "outputId": "e5dbb827-7358-41de-d843-44e46686f215"
      },
      "outputs": [
        {
          "output_type": "execute_result",
          "data": {
            "text/plain": [
              "{0: '0',\n",
              " 1: '1',\n",
              " 2: '2',\n",
              " 3: '3',\n",
              " 4: '4',\n",
              " 5: '5',\n",
              " 6: '6',\n",
              " 7: '7',\n",
              " 8: '8',\n",
              " 9: '9',\n",
              " 10: 'A',\n",
              " 11: 'B',\n",
              " 12: 'C',\n",
              " 13: 'D',\n",
              " 14: 'E',\n",
              " 15: 'F',\n",
              " 16: 'G',\n",
              " 17: 'H',\n",
              " 18: 'I',\n",
              " 19: 'J',\n",
              " 20: 'K',\n",
              " 21: 'L',\n",
              " 22: 'M',\n",
              " 23: 'N',\n",
              " 24: 'O',\n",
              " 25: 'P',\n",
              " 26: 'Q',\n",
              " 27: 'R',\n",
              " 28: 'S',\n",
              " 29: 'T',\n",
              " 30: 'U',\n",
              " 31: 'V',\n",
              " 32: 'W',\n",
              " 33: 'X',\n",
              " 34: 'Y',\n",
              " 35: 'Z'}"
            ]
          },
          "metadata": {},
          "execution_count": 7
        }
      ],
      "source": [
        "mapping_dict"
      ]
    },
    {
      "cell_type": "code",
      "execution_count": 8,
      "metadata": {
        "id": "KPGkS2NXVMGn"
      },
      "outputs": [],
      "source": [
        "sample_size = 1000000\n",
        "\n",
        "random_numbers = list()\n",
        "\n",
        "for i in range(0,sample_size):\n",
        "\n",
        "  blank_str = str()\n",
        "\n",
        "  random_digit = random.randint(0,35)\n",
        "  blank_str = blank_str + mapping_dict[random_digit]\n",
        "\n",
        "  random_digit = random.randint(0,35)\n",
        "  blank_str = blank_str + mapping_dict[random_digit]\n",
        "\n",
        "  for i in range(0,8):\n",
        "    coin_toss = random.randint(0,1)\n",
        "\n",
        "    if coin_toss == 1:\n",
        "\n",
        "      random_digit = random.randint(0,35)\n",
        "      blank_str = blank_str + mapping_dict[random_digit]\n",
        "\n",
        "    else:\n",
        "      break\n",
        "\n",
        "  random_numbers.append(blank_str)"
      ]
    },
    {
      "cell_type": "markdown",
      "source": [
        "#->Here is a loop on i through (o,sample_size) is run to add characters or numbers from the mapping_dict dictionary to a string declared as blank_str which is then added to a List known as random_numbers.\n",
        "#->Two characters or numbers are added to every blank_str in the list random_numbers.\n",
        "#->Then a loop is used to add additional 8 characters or numbers to the blank_str.this loop is based on coin and its probability. if coin gives a value of 1,we add one element and the loop iterates again , if it gives a 1 again we add one more element and if it gives a zero,we stop adding and the loop exits."
      ],
      "metadata": {
        "id": "u4GUaEnORtUP"
      }
    },
    {
      "cell_type": "code",
      "execution_count": 9,
      "metadata": {
        "id": "Q2nV3-Jgv-GR"
      },
      "outputs": [],
      "source": [
        "reverse_mapping_dict = dict()\n",
        "\n",
        "for k in mapping_dict.keys():\n",
        "  reverse_mapping_dict[mapping_dict[k]] = k"
      ]
    },
    {
      "cell_type": "markdown",
      "source": [
        "#->This loop here is used to create a new dictionary reverse_mapping_dict with the keys of the mapping_dict as it values and its values as its keys.\n"
      ],
      "metadata": {
        "id": "c3vMZN4bgNK1"
      }
    },
    {
      "cell_type": "code",
      "execution_count": 10,
      "metadata": {
        "id": "ba745hqvyubF"
      },
      "outputs": [],
      "source": [
        "base_frequency = dict()\n",
        "\n",
        "for blank_str in random_numbers:\n",
        "  highest_digit = max(blank_str)\n",
        "  highest_base = reverse_mapping_dict[highest_digit] + 1\n",
        "\n",
        "  if highest_base in base_frequency.keys():\n",
        "    base_frequency[highest_base] += (1/sample_size)\n",
        "  else:\n",
        "    base_frequency[highest_base] = (1/sample_size)"
      ]
    },
    {
      "cell_type": "markdown",
      "source": [
        "#->This code calculates the frequencies of the highest bases.\n",
        "#->The highest base is determined by finding the character with highest intezer value in the reverse_mapping_dict.\n",
        "#->Then we keep incrementing the count for the frequencies of particular bases in the base_frequency dictionary. Now we get a dictionary with bases as keys and their frequencies as values."
      ],
      "metadata": {
        "id": "Dl_OtS5Zz4Pu"
      }
    },
    {
      "cell_type": "code",
      "source": [
        "plt.bar(x=base_frequency.keys(),height=base_frequency.values())"
      ],
      "metadata": {
        "id": "1Tofc60-WSDf",
        "colab": {
          "base_uri": "https://localhost:8080/",
          "height": 447
        },
        "outputId": "3d6f5051-b3bc-4559-d2e3-c2a7127847d8"
      },
      "execution_count": 11,
      "outputs": [
        {
          "output_type": "execute_result",
          "data": {
            "text/plain": [
              "<BarContainer object of 36 artists>"
            ]
          },
          "metadata": {},
          "execution_count": 11
        },
        {
          "output_type": "display_data",
          "data": {
            "text/plain": [
              "<Figure size 640x480 with 1 Axes>"
            ],
            "image/png": "[encoded data removed]"
          },
          "metadata": {}
        }
      ]
    },
    {
      "cell_type": "markdown",
      "source": [
        "#->Now we plot the histogram for relative frequency V/S highest bases using matplotlib library."
      ],
      "metadata": {
        "id": "5aHBskEZ70je"
      }
    },
    {
      "cell_type": "markdown",
      "source": [
        "\n",
        "#Probability of occurrance of any events, 'x' is the limiting case of relative frequency as the sample size limits to infinity.\n",
        "#$P(x)=lim_{samplesize=\\infty}\\frac{Frequency(x)}{Sample Size}$\n",
        "\n"
      ],
      "metadata": {
        "id": "ibmTY2khftVl"
      }
    },
    {
      "cell_type": "markdown",
      "source": [
        "#Machine learning is defined as the set of mathematical and programming tools used to find the function of the graph which will be plotted for populations using sample data."
      ],
      "metadata": {
        "id": "E30x8etUf1dO"
      }
    }
  ],
  "metadata": {
    "colab": {
      "provenance": []
    },
    "kernelspec": {
      "display_name": "Python 3",
      "name": "python3"
    },
    "language_info": {
      "name": "python"
    }
  },
  "nbformat": 4,
  "nbformat_minor": 0
}